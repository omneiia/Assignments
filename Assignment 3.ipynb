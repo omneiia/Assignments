{
 "cells": [
  {
   "cell_type": "markdown",
   "metadata": {},
   "source": [
    "# Assignment 3"
   ]
  },
  {
   "cell_type": "markdown",
   "metadata": {},
   "source": [
    "### Write a function to count the number 4 in a given list."
   ]
  },
  {
   "cell_type": "code",
   "execution_count": 43,
   "metadata": {
    "collapsed": true
   },
   "outputs": [
    {
     "name": "stdout",
     "output_type": "stream",
     "text": [
      "Four wasn/t found\n"
     ]
    }
   ],
   "source": [
    "def fourCounter(list1):\n",
    "    counter = 0\n",
    "    for number in list1:\n",
    "        if number == 4:\n",
    "            counter +=1\n",
    "        else :\n",
    "            counter = counter \n",
    "    if counter == 0 :\n",
    "        print(\"Four wasn't found\")\n",
    "    else :\n",
    "        print(\"Four was found {} times\".format(counter))\n",
    "fourCounter([1,2,3,5,6,7,8,9,9,8,2,3,1,6])"
   ]
  },
  {
   "cell_type": "markdown",
   "metadata": {},
   "source": [
    "### write a  function to check whether a number is divisible by another number."
   ]
  },
  {
   "cell_type": "code",
   "execution_count": 44,
   "metadata": {
    "collapsed": true
   },
   "outputs": [
    {
     "name": "stdout",
     "output_type": "stream",
     "text": [
      "They are divisble by each other and the result is 5.0\n"
     ]
    }
   ],
   "source": [
    "def divisionFunc():\n",
    "    firstNumber = input(\"Please enter the first number \")\n",
    "    secondNumber= input(\"Please enter the second number \")\n",
    "    firstNumber = int(firstNumber)\n",
    "    secondNumber = int(secondNumber)\n",
    "    if firstNumber % secondNumber == 0 :\n",
    "        print(\"They are divisble by each other and the result is {}\".format(firstNumber/secondNumber))\n",
    "    else :\n",
    "        print(\"They are not divisble by each other and the is a reminder {}\".format(firstNumber%secondNumber))\n",
    "divisionFunc()"
   ]
  },
  {
   "cell_type": "markdown",
   "metadata": {},
   "source": [
    "### write a function to find the maximum and minimum numbers from a sequence of numbers."
   ]
  },
  {
   "cell_type": "code",
   "execution_count": 45,
   "metadata": {
    "collapsed": true
   },
   "outputs": [
    {
     "name": "stdout",
     "output_type": "stream",
     "text": [
      "The Maximum is 96 and the minimum is 1\n"
     ]
    }
   ],
   "source": [
    "def maxMinFunc(list1):\n",
    "  maximum = list1[0]\n",
    "  minimum = list1[0]\n",
    "  for num in list1:\n",
    "    if num> maximum:\n",
    "      maximum = num\n",
    "    elif num< minimum:\n",
    "        minimum = num\n",
    "  print(\"The Maximum is {} and the minimum is {}\".format(maximum,minimum))\n",
    "\n",
    "maxMinFunc([55,8,1,96,22])"
   ]
  },
  {
   "cell_type": "markdown",
   "metadata": {},
   "source": [
    "### Write a Python function that takes two lists and returns True if they have at least one common member."
   ]
  },
  {
   "cell_type": "code",
   "execution_count": 46,
   "metadata": {
    "collapsed": true
   },
   "outputs": [],
   "source": [
    "def compare(list1, list2):\n",
    "     for number1 in list1:\n",
    "         for number2 in list2:\n",
    "             if number1 == number2:\n",
    "                 return True\n",
    "compare([1,4,8,9,2,33,50],[500,93,88,41,55,74])"
   ]
  },
  {
   "cell_type": "markdown",
   "metadata": {},
   "source": [
    "### Write a Python function to calculate the factorial of a number (a non-negative integer). The function accepts the number from the user"
   ]
  },
  {
   "cell_type": "code",
   "execution_count": 47,
   "metadata": {
    "collapsed": true
   },
   "outputs": [
    {
     "data": {
      "text/plain": [
       "720"
      ]
     },
     "execution_count": 47,
     "metadata": {},
     "output_type": "execute_result"
    }
   ],
   "source": [
    "def factorial(number) :\n",
    "    if number > 1 :\n",
    "        return number * factorial(number-1)\n",
    "    elif number ==1 or number == 0 :\n",
    "        return 1\n",
    "factorial(6)"
   ]
  },
  {
   "cell_type": "markdown",
   "metadata": {},
   "source": [
    "### Write a Python function to check whether a number is in a given range.\n",
    "\n",
    "### The range is from 3 to 11\n"
   ]
  },
  {
   "cell_type": "code",
   "execution_count": 55,
   "metadata": {
    "collapsed": true
   },
   "outputs": [
    {
     "name": "stdout",
     "output_type": "stream",
     "text": [
      "Out of range\n"
     ]
    }
   ],
   "source": [
    "def rangeFunc(number1):\n",
    "        if number1 >= 3 and number1 <= 11 :\n",
    "            print(\"It's in range\")\n",
    "        else :\n",
    "            print(\"Out of range\")\n",
    "rangeFunc(100)"
   ]
  },
  {
   "cell_type": "markdown",
   "metadata": {},
   "source": [
    "### Write a  program to create the multiplication table (from 1 to 10) of a number."
   ]
  },
  {
   "cell_type": "code",
   "execution_count": 58,
   "metadata": {
    "collapsed": true
   },
   "outputs": [
    {
     "name": "stdout",
     "output_type": "stream",
     "text": [
      "4 x 1 = 4\n",
      "4 x 2 = 8\n",
      "4 x 3 = 12\n",
      "4 x 4 = 16\n",
      "4 x 5 = 20\n",
      "4 x 6 = 24\n",
      "4 x 7 = 28\n",
      "4 x 8 = 32\n",
      "4 x 9 = 36\n",
      "4 x 10 = 40\n"
     ]
    }
   ],
   "source": [
    "def multiplicationFunc(number):\n",
    "    print(\"{} x 1 = {}\".format(number,number*1))\n",
    "    print(\"{} x 2 = {}\".format(number,number*2))\n",
    "    print(\"{} x 3 = {}\".format(number,number*3))\n",
    "    print(\"{} x 4 = {}\".format(number,number*4))\n",
    "    print(\"{} x 5 = {}\".format(number,number*5))\n",
    "    print(\"{} x 6 = {}\".format(number,number*6))\n",
    "    print(\"{} x 7 = {}\".format(number,number*7))\n",
    "    print(\"{} x 8 = {}\".format(number,number*8))\n",
    "    print(\"{} x 9 = {}\".format(number,number*9))\n",
    "    print(\"{} x 10 = {}\".format(number,number*10))\n",
    "multiplicationFunc(4)"
   ]
  },
  {
   "cell_type": "markdown",
   "metadata": {},
   "source": [
    "#### LESSER OF TWO EVENS: Write a function that returns the lesser of two given numbers *if* both numbers are even, but returns the greater if one or both numbers are odd\n",
    "    lesser_of_two_evens(2,4) --> 2\n",
    "    lesser_of_two_evens(2,5) --> 5"
   ]
  },
  {
   "cell_type": "code",
   "execution_count": 64,
   "metadata": {},
   "outputs": [
    {
     "name": "stdout",
     "output_type": "stream",
     "text": [
      "5\n"
     ]
    }
   ],
   "source": [
    "def lesserGreaterFunc(firstNumber,secondNumber):\n",
    "    if firstNumber % 2 == 0 and secondNumber % 2 == 0:\n",
    "        if firstNumber < secondNumber :\n",
    "            print(firstNumber)\n",
    "        else:\n",
    "            print(secondNumber)\n",
    "    else :\n",
    "        if firstNumber < secondNumber :\n",
    "            print(secondNumber)\n",
    "        else :\n",
    "            print(firstNumber) \n",
    "lesserGreaterFunc(5,2)"
   ]
  },
  {
   "cell_type": "markdown",
   "metadata": {},
   "source": [
    "#### ANIMAL CRACKERS: Write a function takes a two-word string and returns True if both words begin with same letter\n",
    "    animal_crackers('Levelheaded Llama') --> True\n",
    "    animal_crackers('Crazy Kangaroo') --> False"
   ]
  },
  {
   "cell_type": "code",
   "execution_count": 66,
   "metadata": {},
   "outputs": [
    {
     "data": {
      "text/plain": [
       "False"
      ]
     },
     "execution_count": 66,
     "metadata": {},
     "output_type": "execute_result"
    }
   ],
   "source": [
    "def compareFunc() :\n",
    "    sentence = input(\"Please enter two words to check if they start with the same letter \")\n",
    "    letters = sentence.split()\n",
    "    if letters[0][0] == letters[1][0]:\n",
    "        return True\n",
    "    else :\n",
    "        return False\n",
    "compareFunc()"
   ]
  },
  {
   "cell_type": "markdown",
   "metadata": {},
   "source": [
    "#### MAKES TWENTY: Given two integers, return True if the sum of the integers is 20 *or* if one of the integers is 20. If not, return False\n",
    "\n",
    "    makes_twenty(20,10) --> True\n",
    "    makes_twenty(12,8) --> True\n",
    "    makes_twenty(2,3) --> False"
   ]
  },
  {
   "cell_type": "code",
   "execution_count": 72,
   "metadata": {},
   "outputs": [
    {
     "data": {
      "text/plain": [
       "False"
      ]
     },
     "execution_count": 72,
     "metadata": {},
     "output_type": "execute_result"
    }
   ],
   "source": [
    "def makes_twenty(firstNumber,secondNumber):\n",
    "    if firstNumber == 20 or secondNumber == 20 :\n",
    "        return True \n",
    "    elif firstNumber + secondNumber == 20 :\n",
    "        return True \n",
    "    else :\n",
    "        return False \n",
    "makes_twenty(51,15)"
   ]
  },
  {
   "cell_type": "markdown",
   "metadata": {},
   "source": [
    "#### ALMOST THERE: Given an integer n, return True if n is within 10 of either 100 or 200\n",
    "\n",
    "    almost_there(90) --> True\n",
    "    almost_there(104) --> True\n",
    "    almost_there(150) --> False\n",
    "    almost_there(209) --> True\n",
    "    \n",
    "NOTE: `abs(num)` returns the absolute value of a number"
   ]
  },
  {
   "cell_type": "code",
   "execution_count": 83,
   "metadata": {},
   "outputs": [
    {
     "data": {
      "text/plain": [
       "True"
      ]
     },
     "execution_count": 83,
     "metadata": {},
     "output_type": "execute_result"
    }
   ],
   "source": [
    "def almostThere(number):\n",
    "    if number >= 100 and number <= 110 or number >=90 :\n",
    "        return True\n",
    "    elif number >= 200 and number <= 210 or number >=190 :\n",
    "        return True \n",
    "    else :\n",
    "        return False\n",
    "almostThere(98)"
   ]
  },
  {
   "cell_type": "markdown",
   "metadata": {},
   "source": [
    "#### BLACKJACK: Given three integers between 1 and 11, if their sum is less than or equal to 21, return their sum. If their sum exceeds 21 *and* there's an eleven, reduce the total sum by 10. Finally, if the sum  exceeds 21, return 'BUST'\n",
    "    blackjack(5,6,7) --> 18\n",
    "    blackjack(9,9,9) --> 'BUST'\n",
    "    blackjack(9,9,11) --> 19"
   ]
  },
  {
   "cell_type": "code",
   "execution_count": 89,
   "metadata": {},
   "outputs": [
    {
     "data": {
      "text/plain": [
       "'BUST'"
      ]
     },
     "execution_count": 89,
     "metadata": {},
     "output_type": "execute_result"
    }
   ],
   "source": [
    "def blackJack(firstNumber,secondNumber,thirdNumber):\n",
    "    summer = firstNumber + secondNumber + thirdNumber\n",
    "    if firstNumber >= 1 or firstNumber <=11 and secondNumber >= 1 or secondNumber <=11 and thirdNumber >= 1 or thirdNumber <=11 :\n",
    "        if summer == 21 or summer < 21:\n",
    "            return summer\n",
    "        elif summer > 21 and firstNumber ==11 or secondNumber == 11 or thirdNumber == 11 :\n",
    "            return summer -10\n",
    "        elif summer > 21 :\n",
    "            return 'BUST'\n",
    "blackJack(9,9,9)"
   ]
  }
 ],
 "metadata": {
  "kernelspec": {
   "display_name": "Python 3.10.2 64-bit",
   "language": "python",
   "name": "python3"
  },
  "language_info": {
   "codemirror_mode": {
    "name": "ipython",
    "version": 3
   },
   "file_extension": ".py",
   "mimetype": "text/x-python",
   "name": "python",
   "nbconvert_exporter": "python",
   "pygments_lexer": "ipython3",
   "version": "3.10.2"
  },
  "vscode": {
   "interpreter": {
    "hash": "369f2c481f4da34e4445cda3fffd2e751bd1c4d706f27375911949ba6bb62e1c"
   }
  }
 },
 "nbformat": 4,
 "nbformat_minor": 2
}
